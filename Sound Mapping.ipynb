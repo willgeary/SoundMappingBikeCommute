{
 "cells": [
  {
   "cell_type": "markdown",
   "metadata": {},
   "source": [
    "# Sound Mapping with WideNoise\n",
    "\n",
    "http://cs.everyaware.eu/event/widenoise\n",
    "\n",
    "Workflow:\n",
    "\n",
    "1. Use iPhone app WideNoisePlus to record decible levels.\n",
    "\n",
    "2. Decible measurements with associated GPS coordinates are automatically stored [here](http://cs.everyaware.eu/event/widenoise/personal).\n",
    "\n",
    "3. Measurements can be downloaded as a KML file and parsed using two python functions I created below"
   ]
  },
  {
   "cell_type": "markdown",
   "metadata": {},
   "source": [
    "Open xml file and read it into a python dictionary."
   ]
  },
  {
   "cell_type": "code",
   "execution_count": 3,
   "metadata": {
    "collapsed": false
   },
   "outputs": [],
   "source": [
    "import xmltodict\n",
    "with open('Sound Map/file2.xml') as fd:\n",
    "    doc = xmltodict.parse(fd.read())"
   ]
  },
  {
   "cell_type": "markdown",
   "metadata": {},
   "source": [
    "Define a function to retrieve the lat/lon coordinates from the data above."
   ]
  },
  {
   "cell_type": "code",
   "execution_count": 4,
   "metadata": {
    "collapsed": false
   },
   "outputs": [],
   "source": [
    "def getCoords(doc):\n",
    "    '''\n",
    "    Input: xml file from EveryAware WideNoise project\n",
    "    Output: list of the lat/lon coordinates\n",
    "    '''\n",
    "    coords = []\n",
    "\n",
    "    for rec in doc['kml']['Document']['Placemark']:\n",
    "        coords.append(rec['ExtendedData']['Data'][1]['value'].replace('[','').strip().split()[:2])\n",
    "\n",
    "    return coords"
   ]
  },
  {
   "cell_type": "markdown",
   "metadata": {},
   "source": [
    "Define a function to retrieve the noise decible recordings."
   ]
  },
  {
   "cell_type": "code",
   "execution_count": 5,
   "metadata": {
    "collapsed": false
   },
   "outputs": [],
   "source": [
    "def getDecibels(doc):\n",
    "    '''\n",
    "    Input: xml file from EveryAware WideNoise project\n",
    "    Output: list of the decible measurements\n",
    "    '''\n",
    "    decibels = []\n",
    "\n",
    "    for rec in doc['kml']['Document']['Placemark']:\n",
    "        decibels.append(rec['ExtendedData']['Data'][7]['value'].strip())\n",
    "\n",
    "    return decibels"
   ]
  },
  {
   "cell_type": "markdown",
   "metadata": {},
   "source": [
    "Combine coords and decibles into a data table, parse for lat and lons."
   ]
  },
  {
   "cell_type": "code",
   "execution_count": 6,
   "metadata": {
    "collapsed": false
   },
   "outputs": [
    {
     "data": {
      "text/html": [
       "<div>\n",
       "<table border=\"1\" class=\"dataframe\">\n",
       "  <thead>\n",
       "    <tr style=\"text-align: right;\">\n",
       "      <th></th>\n",
       "      <th>Decibels</th>\n",
       "      <th>Location</th>\n",
       "      <th>Latitude</th>\n",
       "      <th>Longitude</th>\n",
       "    </tr>\n",
       "  </thead>\n",
       "  <tbody>\n",
       "    <tr>\n",
       "      <th>0</th>\n",
       "      <td>79.166489</td>\n",
       "      <td>[-73.971978,, 40.68814,]</td>\n",
       "      <td>40.68814</td>\n",
       "      <td>-73.971978</td>\n",
       "    </tr>\n",
       "    <tr>\n",
       "      <th>1</th>\n",
       "      <td>90.824547</td>\n",
       "      <td>[-73.972033,, 40.688094,]</td>\n",
       "      <td>40.68809</td>\n",
       "      <td>-73.972033</td>\n",
       "    </tr>\n",
       "    <tr>\n",
       "      <th>2</th>\n",
       "      <td>88.532661</td>\n",
       "      <td>[-73.971983,, 40.688078,]</td>\n",
       "      <td>40.68807</td>\n",
       "      <td>-73.971983</td>\n",
       "    </tr>\n",
       "    <tr>\n",
       "      <th>3</th>\n",
       "      <td>77.046959</td>\n",
       "      <td>[-73.971867,, 40.688095,]</td>\n",
       "      <td>40.68809</td>\n",
       "      <td>-73.971867</td>\n",
       "    </tr>\n",
       "    <tr>\n",
       "      <th>4</th>\n",
       "      <td>82.685875</td>\n",
       "      <td>[-73.972053,, 40.687536,]</td>\n",
       "      <td>40.68753</td>\n",
       "      <td>-73.972053</td>\n",
       "    </tr>\n",
       "  </tbody>\n",
       "</table>\n",
       "</div>"
      ],
      "text/plain": [
       "    Decibels                   Location  Latitude   Longitude\n",
       "0  79.166489   [-73.971978,, 40.68814,]  40.68814  -73.971978\n",
       "1  90.824547  [-73.972033,, 40.688094,]  40.68809  -73.972033\n",
       "2  88.532661  [-73.971983,, 40.688078,]  40.68807  -73.971983\n",
       "3  77.046959  [-73.971867,, 40.688095,]  40.68809  -73.971867\n",
       "4  82.685875  [-73.972053,, 40.687536,]  40.68753  -73.972053"
      ]
     },
     "execution_count": 6,
     "metadata": {},
     "output_type": "execute_result"
    }
   ],
   "source": [
    "import pandas as pd\n",
    "\n",
    "def createTable(doc):\n",
    "    '''\n",
    "    Input: xml file from EveryAware WideNoise project\n",
    "    Output: pandas dataframe containing decibles and lat/lon coordinates\n",
    "    '''\n",
    "    df = pd.DataFrame({'Location': getCoords(doc), 'Decibels':getDecibels(doc)})\n",
    "    df['Latitude'] = [rec[1][0:df['Location'][0][1].find(',')].encode('ascii','ignore') for rec in df.Location]\n",
    "    df['Longitude'] = [rec[0][0:df['Location'][0][0].find(',')].encode('ascii','ignore') for rec in df.Location]\n",
    "\n",
    "    return df\n",
    "\n",
    "df = createTable(doc)\n",
    "\n",
    "# save to csv\n",
    "df.to_csv('soundmap.csv')\n",
    "df.head()"
   ]
  },
  {
   "cell_type": "markdown",
   "metadata": {},
   "source": [
    "Make a few plots."
   ]
  },
  {
   "cell_type": "code",
   "execution_count": 15,
   "metadata": {
    "collapsed": false
   },
   "outputs": [],
   "source": [
    "import numpy as np\n",
    "import matplotlib.pyplot as plt\n",
    "import seaborn\n",
    "%matplotlib inline"
   ]
  },
  {
   "cell_type": "code",
   "execution_count": 48,
   "metadata": {
    "collapsed": true
   },
   "outputs": [],
   "source": [
    "# Convert decibles to float\n",
    "df.Decibels = df.Decibels.astype(float)\n",
    "decibels = np.array(df.Decibels)"
   ]
  },
  {
   "cell_type": "code",
   "execution_count": 52,
   "metadata": {
    "collapsed": false
   },
   "outputs": [
    {
     "data": {
      "image/png": "[encoded data removed]",
      "text/plain": [
       "<matplotlib.figure.Figure at 0x11adf4310>"
      ]
     },
     "metadata": {},
     "output_type": "display_data"
    }
   ],
   "source": [
    "# Plot volume over time\n",
    "fig, ax = plt.subplots()\n",
    "ax.plot(decibels)\n",
    "ax.set_title('Volume Over Time')\n",
    "ax.set_xlabel('Recording Number')\n",
    "ax.set_ylabel('Decibles');"
   ]
  },
  {
   "cell_type": "code",
   "execution_count": 50,
   "metadata": {
    "collapsed": false
   },
   "outputs": [
    {
     "data": {
      "image/png": "[encoded data removed]",
      "text/plain": [
       "<matplotlib.figure.Figure at 0x11b1a2810>"
      ]
     },
     "metadata": {},
     "output_type": "display_data"
    }
   ],
   "source": [
    "# Generate histogram\n",
    "hist, bins = np.histogram(decibels, bins=15)\n",
    "width = .7 * (bins[1] - bins[0])\n",
    "center = (bins[:-1] + bins[1:]) / 2\n",
    "\n",
    "fig, ax = plt.subplots()\n",
    "ax.bar(center, hist, align='center', width=width)\n",
    "ax.set_title('Number of Recordings by Volume')\n",
    "ax.set_xlabel('Decibles')\n",
    "ax.set_ylabel('Number of Recordings');"
   ]
  },
  {
   "cell_type": "markdown",
   "metadata": {},
   "source": [
    "Let's categorize the recordings by volume level so that we can color code our map by category. Let all recordings less than 85 decibles be 'Quiet', all between 85 and 90 be 'Moderate', and all above 90 be 'Loud'."
   ]
  },
  {
   "cell_type": "code",
   "execution_count": 70,
   "metadata": {
    "collapsed": false
   },
   "outputs": [],
   "source": [
    "volume_categories = []\n",
    "for i in df.Decibels:\n",
    "    if i < 85.0:\n",
    "        volume_categories.append('Quiet: < 85 decibles')\n",
    "    elif 85.0 <= i <= 90:\n",
    "        volume_categories.append('Moderate: 85 to 90 decibles')\n",
    "    elif i > 90:\n",
    "        volume_categories.append('Loud: > 90 decibles')"
   ]
  },
  {
   "cell_type": "code",
   "execution_count": 73,
   "metadata": {
    "collapsed": false
   },
   "outputs": [
    {
     "data": {
      "text/html": [
       "<div>\n",
       "<table border=\"1\" class=\"dataframe\">\n",
       "  <thead>\n",
       "    <tr style=\"text-align: right;\">\n",
       "      <th></th>\n",
       "      <th>Decibels</th>\n",
       "      <th>Location</th>\n",
       "      <th>Latitude</th>\n",
       "      <th>Longitude</th>\n",
       "      <th>Volume Category</th>\n",
       "    </tr>\n",
       "  </thead>\n",
       "  <tbody>\n",
       "    <tr>\n",
       "      <th>0</th>\n",
       "      <td>79.166489</td>\n",
       "      <td>[-73.971978,, 40.68814,]</td>\n",
       "      <td>40.68814</td>\n",
       "      <td>-73.971978</td>\n",
       "      <td>Quiet: &lt; 85 decibles</td>\n",
       "    </tr>\n",
       "    <tr>\n",
       "      <th>1</th>\n",
       "      <td>90.824547</td>\n",
       "      <td>[-73.972033,, 40.688094,]</td>\n",
       "      <td>40.68809</td>\n",
       "      <td>-73.972033</td>\n",
       "      <td>Loud: &gt; 90 decibles</td>\n",
       "    </tr>\n",
       "    <tr>\n",
       "      <th>2</th>\n",
       "      <td>88.532661</td>\n",
       "      <td>[-73.971983,, 40.688078,]</td>\n",
       "      <td>40.68807</td>\n",
       "      <td>-73.971983</td>\n",
       "      <td>Moderate: 85 to 90 decibles</td>\n",
       "    </tr>\n",
       "    <tr>\n",
       "      <th>3</th>\n",
       "      <td>77.046959</td>\n",
       "      <td>[-73.971867,, 40.688095,]</td>\n",
       "      <td>40.68809</td>\n",
       "      <td>-73.971867</td>\n",
       "      <td>Quiet: &lt; 85 decibles</td>\n",
       "    </tr>\n",
       "    <tr>\n",
       "      <th>4</th>\n",
       "      <td>82.685875</td>\n",
       "      <td>[-73.972053,, 40.687536,]</td>\n",
       "      <td>40.68753</td>\n",
       "      <td>-73.972053</td>\n",
       "      <td>Quiet: &lt; 85 decibles</td>\n",
       "    </tr>\n",
       "  </tbody>\n",
       "</table>\n",
       "</div>"
      ],
      "text/plain": [
       "    Decibels                   Location  Latitude   Longitude  \\\n",
       "0  79.166489   [-73.971978,, 40.68814,]  40.68814  -73.971978   \n",
       "1  90.824547  [-73.972033,, 40.688094,]  40.68809  -73.972033   \n",
       "2  88.532661  [-73.971983,, 40.688078,]  40.68807  -73.971983   \n",
       "3  77.046959  [-73.971867,, 40.688095,]  40.68809  -73.971867   \n",
       "4  82.685875  [-73.972053,, 40.687536,]  40.68753  -73.972053   \n",
       "\n",
       "               Volume Category  \n",
       "0         Quiet: < 85 decibles  \n",
       "1          Loud: > 90 decibles  \n",
       "2  Moderate: 85 to 90 decibles  \n",
       "3         Quiet: < 85 decibles  \n",
       "4         Quiet: < 85 decibles  "
      ]
     },
     "execution_count": 73,
     "metadata": {},
     "output_type": "execute_result"
    }
   ],
   "source": [
    "# Insert as a new column in the dataframe\n",
    "df['Volume Category'] = volume_categories\n",
    "df.head()"
   ]
  },
  {
   "cell_type": "code",
   "execution_count": 74,
   "metadata": {
    "collapsed": true
   },
   "outputs": [],
   "source": [
    "# save to csv\n",
    "df.to_csv('soundmap.csv')"
   ]
  },
  {
   "cell_type": "markdown",
   "metadata": {},
   "source": [
    "# Mapping with Carto"
   ]
  },
  {
   "cell_type": "code",
   "execution_count": 75,
   "metadata": {
    "collapsed": false
   },
   "outputs": [
    {
     "data": {
      "text/html": [
       "\n",
       "        <iframe\n",
       "            width=\"800\"\n",
       "            height=\"500\"\n",
       "            src=\"https://willgeary.carto.com/viz/b6a4e576-a6c8-11e6-b3a9-0ecd1babdde5/embed_map\"\n",
       "            frameborder=\"0\"\n",
       "            allowfullscreen\n",
       "        ></iframe>\n",
       "        "
      ],
      "text/plain": [
       "<IPython.lib.display.IFrame at 0x11b814b90>"
      ]
     },
     "execution_count": 75,
     "metadata": {},
     "output_type": "execute_result"
    }
   ],
   "source": [
    "from IPython.display import IFrame\n",
    "IFrame(\"https://willgeary.carto.com/viz/b6a4e576-a6c8-11e6-b3a9-0ecd1babdde5/embed_map\", 800, 500)"
   ]
  }
 ],
 "metadata": {
  "kernelspec": {
   "display_name": "Python [Root]",
   "language": "python",
   "name": "Python [Root]"
  },
  "language_info": {
   "codemirror_mode": {
    "name": "ipython",
    "version": 2
   },
   "file_extension": ".py",
   "mimetype": "text/x-python",
   "name": "python",
   "nbconvert_exporter": "python",
   "pygments_lexer": "ipython2",
   "version": "2.7.12"
  }
 },
 "nbformat": 4,
 "nbformat_minor": 0
}
